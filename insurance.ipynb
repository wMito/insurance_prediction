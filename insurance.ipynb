{
 "cells": [
  {
   "cell_type": "markdown",
   "id": "957cd11f-a7a5-48cd-b0e6-096d59ff71a5",
   "metadata": {},
   "source": [
    "The available data shows the cost of medical insurance of a person and their details such as age, sex, BMI, a number of insured children, a region where they live and whether they smoke. The aim of this project will be to model a charges variable using other available data."
   ]
  },
  {
   "cell_type": "code",
   "execution_count": 45,
   "id": "bf6465c5-1e13-43c5-a709-5ed75ff0438b",
   "metadata": {},
   "outputs": [
    {
     "data": {
      "text/html": [
       "<table class=\"dataframe\">\n",
       "<caption>A data.frame: 6 × 7</caption>\n",
       "<thead>\n",
       "\t<tr><th></th><th scope=col>age</th><th scope=col>sex</th><th scope=col>bmi</th><th scope=col>children</th><th scope=col>smoker</th><th scope=col>region</th><th scope=col>charges</th></tr>\n",
       "\t<tr><th></th><th scope=col>&lt;int&gt;</th><th scope=col>&lt;chr&gt;</th><th scope=col>&lt;dbl&gt;</th><th scope=col>&lt;int&gt;</th><th scope=col>&lt;chr&gt;</th><th scope=col>&lt;chr&gt;</th><th scope=col>&lt;dbl&gt;</th></tr>\n",
       "</thead>\n",
       "<tbody>\n",
       "\t<tr><th scope=row>1</th><td>19</td><td>female</td><td>27.900</td><td>0</td><td>yes</td><td>southwest</td><td>16884.924</td></tr>\n",
       "\t<tr><th scope=row>2</th><td>18</td><td>male  </td><td>33.770</td><td>1</td><td>no </td><td>southeast</td><td> 1725.552</td></tr>\n",
       "\t<tr><th scope=row>3</th><td>28</td><td>male  </td><td>33.000</td><td>3</td><td>no </td><td>southeast</td><td> 4449.462</td></tr>\n",
       "\t<tr><th scope=row>4</th><td>33</td><td>male  </td><td>22.705</td><td>0</td><td>no </td><td>northwest</td><td>21984.471</td></tr>\n",
       "\t<tr><th scope=row>5</th><td>32</td><td>male  </td><td>28.880</td><td>0</td><td>no </td><td>northwest</td><td> 3866.855</td></tr>\n",
       "\t<tr><th scope=row>6</th><td>31</td><td>female</td><td>25.740</td><td>0</td><td>no </td><td>southeast</td><td> 3756.622</td></tr>\n",
       "</tbody>\n",
       "</table>\n"
      ],
      "text/latex": [
       "A data.frame: 6 × 7\n",
       "\\begin{tabular}{r|lllllll}\n",
       "  & age & sex & bmi & children & smoker & region & charges\\\\\n",
       "  & <int> & <chr> & <dbl> & <int> & <chr> & <chr> & <dbl>\\\\\n",
       "\\hline\n",
       "\t1 & 19 & female & 27.900 & 0 & yes & southwest & 16884.924\\\\\n",
       "\t2 & 18 & male   & 33.770 & 1 & no  & southeast &  1725.552\\\\\n",
       "\t3 & 28 & male   & 33.000 & 3 & no  & southeast &  4449.462\\\\\n",
       "\t4 & 33 & male   & 22.705 & 0 & no  & northwest & 21984.471\\\\\n",
       "\t5 & 32 & male   & 28.880 & 0 & no  & northwest &  3866.855\\\\\n",
       "\t6 & 31 & female & 25.740 & 0 & no  & southeast &  3756.622\\\\\n",
       "\\end{tabular}\n"
      ],
      "text/markdown": [
       "\n",
       "A data.frame: 6 × 7\n",
       "\n",
       "| <!--/--> | age &lt;int&gt; | sex &lt;chr&gt; | bmi &lt;dbl&gt; | children &lt;int&gt; | smoker &lt;chr&gt; | region &lt;chr&gt; | charges &lt;dbl&gt; |\n",
       "|---|---|---|---|---|---|---|---|\n",
       "| 1 | 19 | female | 27.900 | 0 | yes | southwest | 16884.924 |\n",
       "| 2 | 18 | male   | 33.770 | 1 | no  | southeast |  1725.552 |\n",
       "| 3 | 28 | male   | 33.000 | 3 | no  | southeast |  4449.462 |\n",
       "| 4 | 33 | male   | 22.705 | 0 | no  | northwest | 21984.471 |\n",
       "| 5 | 32 | male   | 28.880 | 0 | no  | northwest |  3866.855 |\n",
       "| 6 | 31 | female | 25.740 | 0 | no  | southeast |  3756.622 |\n",
       "\n"
      ],
      "text/plain": [
       "  age sex    bmi    children smoker region    charges  \n",
       "1 19  female 27.900 0        yes    southwest 16884.924\n",
       "2 18  male   33.770 1        no     southeast  1725.552\n",
       "3 28  male   33.000 3        no     southeast  4449.462\n",
       "4 33  male   22.705 0        no     northwest 21984.471\n",
       "5 32  male   28.880 0        no     northwest  3866.855\n",
       "6 31  female 25.740 0        no     southeast  3756.622"
      ]
     },
     "metadata": {},
     "output_type": "display_data"
    }
   ],
   "source": [
    "library(ggplot2)\n",
    "library(dplyr)\n",
    "\n",
    "df <- read.csv(\"insurance.csv\", header=TRUE)\n",
    "head(df)"
   ]
  },
  {
   "cell_type": "markdown",
   "id": "d08fd814-5dee-4b84-b6a0-25fe6fc24954",
   "metadata": {},
   "source": [
    "Firstly, I am checking how the data looks. "
   ]
  },
  {
   "cell_type": "code",
   "execution_count": 46,
   "id": "6ef5c5e5-1eef-4f19-a1d1-fa363e0a2f0b",
   "metadata": {},
   "outputs": [
    {
     "data": {
      "text/plain": [
       "      age            sex                 bmi           children    \n",
       " Min.   :18.00   Length:1338        Min.   :15.96   Min.   :0.000  \n",
       " 1st Qu.:27.00   Class :character   1st Qu.:26.30   1st Qu.:0.000  \n",
       " Median :39.00   Mode  :character   Median :30.40   Median :1.000  \n",
       " Mean   :39.21                      Mean   :30.66   Mean   :1.095  \n",
       " 3rd Qu.:51.00                      3rd Qu.:34.69   3rd Qu.:2.000  \n",
       " Max.   :64.00                      Max.   :53.13   Max.   :5.000  \n",
       "    smoker             region             charges     \n",
       " Length:1338        Length:1338        Min.   : 1122  \n",
       " Class :character   Class :character   1st Qu.: 4740  \n",
       " Mode  :character   Mode  :character   Median : 9382  \n",
       "                                       Mean   :13270  \n",
       "                                       3rd Qu.:16640  \n",
       "                                       Max.   :63770  "
      ]
     },
     "metadata": {},
     "output_type": "display_data"
    }
   ],
   "source": [
    "summary(df)"
   ]
  },
  {
   "cell_type": "code",
   "execution_count": 47,
   "id": "c8431be9-5828-4230-b8e9-c7bc6e938ab2",
   "metadata": {},
   "outputs": [
    {
     "data": {
      "text/html": [
       "FALSE"
      ],
      "text/latex": [
       "FALSE"
      ],
      "text/markdown": [
       "FALSE"
      ],
      "text/plain": [
       "[1] FALSE"
      ]
     },
     "metadata": {},
     "output_type": "display_data"
    }
   ],
   "source": [
    "any(is.na(df))"
   ]
  },
  {
   "cell_type": "markdown",
   "id": "efa6b5f4-18ab-42e9-a4c7-235547db2e76",
   "metadata": {},
   "source": [
    "There is no missing data. "
   ]
  },
  {
   "cell_type": "markdown",
   "id": "3ac8bbb2-ba31-4dea-8f23-d4202851502b",
   "metadata": {},
   "source": [
    "### Correlation between variables and othe"
   ]
  },
  {
   "cell_type": "code",
   "execution_count": 48,
   "id": "db7bfca6-231a-465f-b02e-a720842257ef",
   "metadata": {},
   "outputs": [
    {
     "data": {
      "image/png": "[encoded data removed]",
      "text/plain": [
       "plot without title"
      ]
     },
     "metadata": {
      "image/png": {
       "height": 300,
       "width": 300
      }
     },
     "output_type": "display_data"
    }
   ],
   "source": [
    "options(repr.plot.width=5, repr.plot.height=5)\n",
    "\n",
    "df$smoker <- as.factor(df$smoker)\n",
    "plot(df$smoker)"
   ]
  },
  {
   "cell_type": "markdown",
   "id": "2d79c200-96a2-4d4a-913a-eada82f4994a",
   "metadata": {},
   "source": [
    "There is way more non-smokers than smokers."
   ]
  },
  {
   "cell_type": "code",
   "execution_count": 49,
   "id": "578dfee8-4f10-46ef-a853-db4477c7c31a",
   "metadata": {},
   "outputs": [
    {
     "data": {
      "image/png": "[encoded data removed]",
      "text/plain": [
       "plot without title"
      ]
     },
     "metadata": {
      "image/png": {
       "height": 300,
       "width": 300
      }
     },
     "output_type": "display_data"
    }
   ],
   "source": [
    "plot(df$smoker, df$charges)"
   ]
  },
  {
   "cell_type": "markdown",
   "id": "d0f47bd9-70cf-4e67-881b-ac0cc7084204",
   "metadata": {},
   "source": [
    "The charges is way higher for smokers."
   ]
  },
  {
   "cell_type": "code",
   "execution_count": 50,
   "id": "53dc270b-c4a3-4d4e-b32d-7188bfd939d9",
   "metadata": {},
   "outputs": [
    {
     "data": {
      "image/png": "[encoded data removed]",
      "text/plain": [
       "plot without title"
      ]
     },
     "metadata": {
      "image/png": {
       "height": 300,
       "width": 300
      }
     },
     "output_type": "display_data"
    }
   ],
   "source": [
    "df$sex <- as.factor(df$sex)\n",
    "plot(df$sex)"
   ]
  },
  {
   "cell_type": "markdown",
   "id": "0e8dd053-1630-4940-8f07-c774475744c3",
   "metadata": {},
   "source": [
    "There is almost perfect 50/50 representation between sexes."
   ]
  },
  {
   "cell_type": "code",
   "execution_count": 51,
   "id": "e59862ba-ef9e-4ce0-b246-156c37ab3a65",
   "metadata": {},
   "outputs": [
    {
     "data": {
      "image/png": "[encoded data removed]",
      "text/plain": [
       "plot without title"
      ]
     },
     "metadata": {
      "image/png": {
       "height": 300,
       "width": 300
      }
     },
     "output_type": "display_data"
    }
   ],
   "source": [
    "plot(df$sex, df$charges)"
   ]
  },
  {
   "cell_type": "markdown",
   "id": "656aa9d0-ea6b-442a-a4c5-80babadb032b",
   "metadata": {},
   "source": [
    "Medians for different sexes are on almost the same weight. However, for males the data has bigger \n",
    "dispersion. "
   ]
  },
  {
   "cell_type": "code",
   "execution_count": 52,
   "id": "63a28de3-7673-4cd2-ad2b-dc23df5d2764",
   "metadata": {},
   "outputs": [
    {
     "data": {
      "image/png": "[encoded data removed]",
      "text/plain": [
       "plot without title"
      ]
     },
     "metadata": {
      "image/png": {
       "height": 300,
       "width": 300
      }
     },
     "output_type": "display_data"
    }
   ],
   "source": [
    "plot(df$bmi, df$charges)"
   ]
  },
  {
   "cell_type": "code",
   "execution_count": 53,
   "id": "68e862c2-8347-4f80-b01e-de418953e7dd",
   "metadata": {},
   "outputs": [
    {
     "data": {
      "text/html": [
       "0.198340968833629"
      ],
      "text/latex": [
       "0.198340968833629"
      ],
      "text/markdown": [
       "0.198340968833629"
      ],
      "text/plain": [
       "[1] 0.198341"
      ]
     },
     "metadata": {},
     "output_type": "display_data"
    }
   ],
   "source": [
    "cor(df$bmi, df$charges)"
   ]
  },
  {
   "cell_type": "markdown",
   "id": "886764e0-faf7-4eef-b442-5ba07ddbb97a",
   "metadata": {},
   "source": [
    "There is no clear correlation between BMI and charges. However, there are some data that is way higher than other points. I check whether it correlates with smokers since this var had the highest differences in charges."
   ]
  },
  {
   "cell_type": "code",
   "execution_count": 54,
   "id": "044f50b5-7647-4501-944e-deb03acc2c96",
   "metadata": {},
   "outputs": [
    {
     "data": {
      "image/png": "[encoded data removed]",
      "text/plain": [
       "plot without title"
      ]
     },
     "metadata": {
      "image/png": {
       "height": 300,
       "width": 300
      }
     },
     "output_type": "display_data"
    }
   ],
   "source": [
    "ggplot(df, aes(bmi, charges, color=smoker)) +\n",
    "    geom_point()"
   ]
  },
  {
   "cell_type": "markdown",
   "id": "b8802adc-5f04-49de-8b77-6b9566b97cc3",
   "metadata": {},
   "source": [
    "As it can be seen in the plot above - there is a clear division for smokers and non-smokers. It also seems that for smokers BMI might have bigger correlation than for non-smokers."
   ]
  },
  {
   "cell_type": "code",
   "execution_count": 55,
   "id": "46c0bce1-3ee3-4790-b31c-2d695c8c937c",
   "metadata": {},
   "outputs": [
    {
     "data": {
      "text/html": [
       "0.806480607015541"
      ],
      "text/latex": [
       "0.806480607015541"
      ],
      "text/markdown": [
       "0.806480607015541"
      ],
      "text/plain": [
       "[1] 0.8064806"
      ]
     },
     "metadata": {},
     "output_type": "display_data"
    }
   ],
   "source": [
    "df %>%\n",
    "    filter(smoker == 'yes') -> df.smokers\n",
    "\n",
    "cor(df.smokers$charges, df.smokers$bmi)"
   ]
  },
  {
   "cell_type": "code",
   "execution_count": 56,
   "id": "c0ca1d5c-f6c8-4027-b4af-e018edeeaa8c",
   "metadata": {},
   "outputs": [
    {
     "data": {
      "text/html": [
       "0.0840365431283327"
      ],
      "text/latex": [
       "0.0840365431283327"
      ],
      "text/markdown": [
       "0.0840365431283327"
      ],
      "text/plain": [
       "[1] 0.08403654"
      ]
     },
     "metadata": {},
     "output_type": "display_data"
    }
   ],
   "source": [
    "df %>%\n",
    "    filter(smoker == 'no') -> df.nosmokers\n",
    "\n",
    "cor(df.nosmokers$charges, df.nosmokers$bmi)"
   ]
  },
  {
   "cell_type": "markdown",
   "id": "8c2536a6-d12d-404a-9ae8-921e6c5f0e64",
   "metadata": {},
   "source": [
    "As you can see, the speculation was proven - for non-smokers correlation between BMI and charges is pretty high (0.8) while for non-smokers it stays pretty low (0.08)."
   ]
  },
  {
   "cell_type": "code",
   "execution_count": 57,
   "id": "1513a469-a032-40bd-9b0c-6eadd880e0e4",
   "metadata": {},
   "outputs": [
    {
     "data": {
      "image/png": "[encoded data removed]",
      "text/plain": [
       "plot without title"
      ]
     },
     "metadata": {
      "image/png": {
       "height": 300,
       "width": 300
      }
     },
     "output_type": "display_data"
    }
   ],
   "source": [
    "df$region <- as.factor(df$region)\n",
    "plot(df$region)"
   ]
  },
  {
   "cell_type": "code",
   "execution_count": 58,
   "id": "6b23297d-6619-4fb6-ba74-3aecd2824f25",
   "metadata": {},
   "outputs": [
    {
     "data": {
      "text/plain": [
       "\n",
       "northeast northwest southeast southwest \n",
       "      324       325       364       325 "
      ]
     },
     "metadata": {},
     "output_type": "display_data"
    }
   ],
   "source": [
    "table(df$region)"
   ]
  },
  {
   "cell_type": "markdown",
   "id": "8af3e0b8-d2e8-4986-90dc-73a03ced1e89",
   "metadata": {},
   "source": [
    "Every region is represented similarly."
   ]
  },
  {
   "cell_type": "code",
   "execution_count": 59,
   "id": "162d6a8c-5474-4bcd-986c-886c5f995c00",
   "metadata": {},
   "outputs": [
    {
     "data": {
      "image/png": "[encoded data removed]",
      "text/plain": [
       "plot without title"
      ]
     },
     "metadata": {
      "image/png": {
       "height": 300,
       "width": 300
      }
     },
     "output_type": "display_data"
    }
   ],
   "source": [
    "plot(df$region, df$charges)"
   ]
  },
  {
   "cell_type": "markdown",
   "id": "68ed5b94-8d46-4db1-aeaa-f0b4b225b79d",
   "metadata": {},
   "source": [
    "Medians are really close. However, regions in the east have a higher upper quarter. "
   ]
  },
  {
   "cell_type": "code",
   "execution_count": 60,
   "id": "e40efffc-0ed6-4f14-839f-ba75bf137f2b",
   "metadata": {},
   "outputs": [
    {
     "data": {
      "image/png": "[encoded data removed]",
      "text/plain": [
       "plot without title"
      ]
     },
     "metadata": {
      "image/png": {
       "height": 300,
       "width": 300
      }
     },
     "output_type": "display_data"
    }
   ],
   "source": [
    "plot(df$age, df$charges)"
   ]
  },
  {
   "cell_type": "markdown",
   "id": "de85b052-7470-436f-8a03-d14650986e57",
   "metadata": {},
   "source": [
    "The plot suggests that there is other variable that seperates age groups into three cost groups. "
   ]
  },
  {
   "cell_type": "code",
   "execution_count": 61,
   "id": "e033998f-8c95-4676-a22e-12e59e3fb0e4",
   "metadata": {},
   "outputs": [
    {
     "data": {
      "text/html": [
       "0.299008193330648"
      ],
      "text/latex": [
       "0.299008193330648"
      ],
      "text/markdown": [
       "0.299008193330648"
      ],
      "text/plain": [
       "[1] 0.2990082"
      ]
     },
     "metadata": {},
     "output_type": "display_data"
    }
   ],
   "source": [
    "cor(df$age, df$charges)"
   ]
  },
  {
   "cell_type": "markdown",
   "id": "5de17fb4-56c2-4baa-8888-48e62ee77646",
   "metadata": {},
   "source": [
    "Correlation is quite low, however, it is probably because the data has three different \"levels\" as mentioned above."
   ]
  },
  {
   "cell_type": "code",
   "execution_count": 62,
   "id": "8a89bf7b-a597-492c-a871-0c40fa211493",
   "metadata": {},
   "outputs": [
    {
     "data": {
      "image/png": "[encoded data removed]",
      "text/plain": [
       "plot without title"
      ]
     },
     "metadata": {
      "image/png": {
       "height": 300,
       "width": 300
      }
     },
     "output_type": "display_data"
    }
   ],
   "source": [
    "ggplot(df, aes(age, charges)) +\n",
    "    geom_point() +\n",
    "    geom_hline(yintercept=10000, linetype=\"dashed\", color = \"red\", linewidth=1.4) +\n",
    "    geom_hline(yintercept=16500, linetype=\"dashed\", color = \"red\", linewidth=1.4) +\n",
    "    geom_vline(xintercept=45, linetype=\"dashed\", color = \"red\", linewidth=1.4) "
   ]
  },
  {
   "cell_type": "markdown",
   "id": "3f9e5e22-36fb-46db-9b47-89aa8d56501b",
   "metadata": {},
   "source": [
    "To investigate it further, I will separate data that has charges above 10000 for people younger than 45 years old and above 16000 for older. "
   ]
  },
  {
   "cell_type": "code",
   "execution_count": 63,
   "id": "a5241438-87e0-40dd-b239-0fb76921670b",
   "metadata": {},
   "outputs": [
    {
     "data": {
      "text/plain": [
       "      age            sex           bmi           children     smoker   \n",
       " Min.   :18.00   female:494   Min.   :15.96   Min.   :0.000   no :963  \n",
       " 1st Qu.:27.00   male  :469   1st Qu.:26.22   1st Qu.:0.000   yes:  0  \n",
       " Median :39.00                Median :30.30   Median :1.000            \n",
       " Mean   :39.31                Mean   :30.59   Mean   :1.071            \n",
       " 3rd Qu.:51.00                3rd Qu.:34.40   3rd Qu.:2.000            \n",
       " Max.   :64.00                Max.   :53.13   Max.   :5.000            \n",
       "       region       charges     \n",
       " northeast:226   Min.   : 1122  \n",
       " northwest:244   1st Qu.: 3596  \n",
       " southeast:244   Median : 6666  \n",
       " southwest:249   Mean   : 7020  \n",
       "                 3rd Qu.:10149  \n",
       "                 Max.   :15612  "
      ]
     },
     "metadata": {},
     "output_type": "display_data"
    }
   ],
   "source": [
    "df %>%\n",
    "    filter(((charges <= 10000) & (age <= 45)) | ((charges < 16000) & (age > 45))) %>%\n",
    "    summary()"
   ]
  },
  {
   "cell_type": "code",
   "execution_count": 64,
   "id": "4b7c1476-28fd-426d-8b11-efa7e808f8ab",
   "metadata": {},
   "outputs": [
    {
     "data": {
      "text/plain": [
       "      age            sex           bmi           children     smoker   \n",
       " Min.   :18.00   female:168   Min.   :17.20   Min.   :0.000   no :101  \n",
       " 1st Qu.:26.50   male  :207   1st Qu.:26.50   1st Qu.:0.000   yes:274  \n",
       " Median :39.00                Median :30.59   Median :1.000            \n",
       " Mean   :38.94                Mean   :30.84   Mean   :1.157            \n",
       " 3rd Qu.:51.00                3rd Qu.:35.30   3rd Qu.:2.000            \n",
       " Max.   :64.00                Max.   :52.58   Max.   :5.000            \n",
       "       region       charges     \n",
       " northeast: 98   Min.   :10796  \n",
       " northwest: 81   1st Qu.:19531  \n",
       " southeast:120   Median :26392  \n",
       " southwest: 76   Mean   :29323  \n",
       "                 3rd Qu.:38770  \n",
       "                 Max.   :63770  "
      ]
     },
     "metadata": {},
     "output_type": "display_data"
    }
   ],
   "source": [
    "df %>%\n",
    "    filter(((charges > 10000) & (age <= 45)) | ((charges > 16000) & (age > 45))) %>%\n",
    "    summary()"
   ]
  },
  {
   "cell_type": "markdown",
   "id": "58bd74b5-bd8a-4e36-81c2-86911f39aa01",
   "metadata": {},
   "source": [
    "As you can see, most of the non-smokers are on the lower trend. It suggests that this trend might be explained by smoker variable. The distribution of other variables (such as BMI) looks similar in both groups. There is more people from southeast but it might be explained by their overrepresentation in the data."
   ]
  },
  {
   "cell_type": "code",
   "execution_count": 65,
   "id": "fa6c3ab5-8095-496c-88b4-1a2aea2c68b4",
   "metadata": {},
   "outputs": [
    {
     "data": {
      "image/png": "[encoded data removed]",
      "text/plain": [
       "plot without title"
      ]
     },
     "metadata": {
      "image/png": {
       "height": 300,
       "width": 300
      }
     },
     "output_type": "display_data"
    }
   ],
   "source": [
    "ggplot(df, aes(age, charges, color=smoker)) +\n",
    "    geom_point()"
   ]
  },
  {
   "cell_type": "markdown",
   "id": "08ed527d-2e63-4731-ab17-27ff82661609",
   "metadata": {},
   "source": [
    "The highest trend line has only smokers."
   ]
  },
  {
   "cell_type": "code",
   "execution_count": 66,
   "id": "cd27cf06-0177-45fd-984b-c67e8ad2e115",
   "metadata": {},
   "outputs": [
    {
     "data": {
      "image/png": "[encoded data removed]",
      "text/plain": [
       "plot without title"
      ]
     },
     "metadata": {
      "image/png": {
       "height": 300,
       "width": 300
      }
     },
     "output_type": "display_data"
    }
   ],
   "source": [
    "plot(as.factor(df$children), df$charges)"
   ]
  },
  {
   "cell_type": "markdown",
   "id": "a38000cc-8a07-4f46-b62e-25ad89ff6c3d",
   "metadata": {},
   "source": [
    "There is an overrepresentation of people without children based on summary done earlier. Medians are similiar to each other."
   ]
  },
  {
   "cell_type": "code",
   "execution_count": 67,
   "id": "816ce390-66b9-4bf1-956c-9bf60916f197",
   "metadata": {},
   "outputs": [
    {
     "data": {
      "text/html": [
       "0.0679982268479048"
      ],
      "text/latex": [
       "0.0679982268479048"
      ],
      "text/markdown": [
       "0.0679982268479048"
      ],
      "text/plain": [
       "[1] 0.06799823"
      ]
     },
     "metadata": {},
     "output_type": "display_data"
    }
   ],
   "source": [
    "cor(df$children, df$charges)"
   ]
  },
  {
   "cell_type": "markdown",
   "id": "af233c6e-2916-4ca3-82ed-aa4010a2ff6f",
   "metadata": {},
   "source": [
    "The correlation is low."
   ]
  },
  {
   "cell_type": "code",
   "execution_count": 68,
   "id": "9924ef96-7a94-44e8-baed-cb1ae5a73fed",
   "metadata": {},
   "outputs": [
    {
     "data": {
      "image/png": "[encoded data removed]",
      "text/plain": [
       "plot without title"
      ]
     },
     "metadata": {
      "image/png": {
       "height": 300,
       "width": 300
      }
     },
     "output_type": "display_data"
    }
   ],
   "source": [
    "plot(df$charges)"
   ]
  },
  {
   "cell_type": "markdown",
   "id": "95ebd16f-3ed8-47be-bded-4617772beb1b",
   "metadata": {},
   "source": [
    "There is an overrepresentation of lower number of charges."
   ]
  },
  {
   "cell_type": "markdown",
   "id": "500fa2e8-2f6d-4bf9-b6e1-328c5d5fcdc5",
   "metadata": {},
   "source": [
    "### Models"
   ]
  },
  {
   "cell_type": "markdown",
   "id": "741803c5-056d-4595-a8b3-13b26a99698c",
   "metadata": {},
   "source": [
    "While investigating the data, the conclusion was that the variables with highest correlations are smoker, age and BMI. Mainly, the interaction between smoker var and other vars (BMI and age). That's why the first model was the interaction model."
   ]
  },
  {
   "cell_type": "code",
   "execution_count": 69,
   "id": "3e4f18c5-249c-49ce-8c9d-8edc5d6aa667",
   "metadata": {},
   "outputs": [
    {
     "data": {
      "text/plain": [
       "\n",
       "Call:\n",
       "lm(formula = charges ~ age * smoker * bmi, data = df)\n",
       "\n",
       "Residuals:\n",
       "     Min       1Q   Median       3Q      Max \n",
       "-12153.0  -2013.3  -1338.7   -303.7  29393.3 \n",
       "\n",
       "Coefficients:\n",
       "                    Estimate Std. Error t value Pr(>|t|)    \n",
       "(Intercept)       -1.483e+03  2.240e+03  -0.662   0.5079    \n",
       "age                2.458e+02  5.502e+01   4.468 8.58e-06 ***\n",
       "smokeryes         -1.242e+04  4.963e+03  -2.502   0.0125 *  \n",
       "bmi               -1.943e+01  7.234e+01  -0.269   0.7883    \n",
       "age:smokeryes     -2.068e+02  1.252e+02  -1.653   0.0987 .  \n",
       "age:bmi            6.835e-01  1.750e+00   0.391   0.6961    \n",
       "smokeryes:bmi      1.184e+03  1.583e+02   7.481 1.34e-13 ***\n",
       "age:smokeryes:bmi  6.624e+00  3.956e+00   1.674   0.0943 .  \n",
       "---\n",
       "Signif. codes:  0 '***' 0.001 '**' 0.01 '*' 0.05 '.' 0.1 ' ' 1\n",
       "\n",
       "Residual standard error: 4905 on 1330 degrees of freedom\n",
       "Multiple R-squared:  0.8368,\tAdjusted R-squared:  0.836 \n",
       "F-statistic: 974.3 on 7 and 1330 DF,  p-value: < 2.2e-16\n"
      ]
     },
     "metadata": {},
     "output_type": "display_data"
    }
   ],
   "source": [
    "model.interaction <- lm(charges~age*smoker*bmi, data=df)\n",
    "summary(model.interaction)"
   ]
  },
  {
   "cell_type": "markdown",
   "id": "add3f1a7-ee3d-4e3c-9d5c-6d9d5de01cb1",
   "metadata": {},
   "source": [
    "The R2 was quite high (0.836)"
   ]
  },
  {
   "cell_type": "code",
   "execution_count": 70,
   "id": "c668bdc4-7682-482f-a054-49f482c84300",
   "metadata": {},
   "outputs": [
    {
     "data": {
      "text/plain": [
       "\n",
       "Call:\n",
       "lm(formula = charges ~ age * smoker * bmi, data = df)\n",
       "\n",
       "Coefficients:\n",
       "      (Intercept)                age          smokeryes                bmi  \n",
       "       -1.483e+03          2.458e+02         -1.242e+04         -1.943e+01  \n",
       "    age:smokeryes            age:bmi      smokeryes:bmi  age:smokeryes:bmi  \n",
       "       -2.068e+02          6.835e-01          1.184e+03          6.624e+00  \n"
      ]
     },
     "metadata": {},
     "output_type": "display_data"
    }
   ],
   "source": [
    "step(model.interaction, trace=0)"
   ]
  },
  {
   "cell_type": "markdown",
   "id": "cadae49a-f17f-48a7-8375-796c567d2fcf",
   "metadata": {},
   "source": [
    "Even though, some of the coefficients got high p-value (for example BMI and age:BMI), the step model didn't reduce them. It suggests that even though they have high p-value, they might be still important in overall model."
   ]
  },
  {
   "cell_type": "code",
   "execution_count": 71,
   "id": "827dd755-1a3a-4cef-a606-c32df0fa407d",
   "metadata": {},
   "outputs": [
    {
     "data": {
      "image/png": "[encoded data removed]",
      "text/plain": [
       "Plot with title \"\""
      ]
     },
     "metadata": {
      "image/png": {
       "height": 300,
       "width": 300
      }
     },
     "output_type": "display_data"
    }
   ],
   "source": [
    "par(mfrow = c(2, 2))\n",
    "plot(model.interaction)"
   ]
  },
  {
   "cell_type": "markdown",
   "id": "8318bb07-03c6-4585-869b-7c5c7340f7c9",
   "metadata": {},
   "source": [
    "The diagnostic plots doesn't look the best - it looks like the data is split into groups (residuals vs fitted and scale-location). Q-Q plot also is not a straight line."
   ]
  },
  {
   "cell_type": "markdown",
   "id": "70397f64-646a-4835-a610-c69a3335f682",
   "metadata": {},
   "source": [
    "Now, I create a model that uses all data points for comparision."
   ]
  },
  {
   "cell_type": "code",
   "execution_count": 72,
   "id": "f1c3d5c0-4a61-40be-9826-36258b81f58a",
   "metadata": {},
   "outputs": [
    {
     "data": {
      "text/plain": [
       "\n",
       "Call:\n",
       "lm(formula = charges ~ ., data = df)\n",
       "\n",
       "Residuals:\n",
       "     Min       1Q   Median       3Q      Max \n",
       "-11304.9  -2848.1   -982.1   1393.9  29992.8 \n",
       "\n",
       "Coefficients:\n",
       "                Estimate Std. Error t value Pr(>|t|)    \n",
       "(Intercept)     -11938.5      987.8 -12.086  < 2e-16 ***\n",
       "age                256.9       11.9  21.587  < 2e-16 ***\n",
       "sexmale           -131.3      332.9  -0.394 0.693348    \n",
       "bmi                339.2       28.6  11.860  < 2e-16 ***\n",
       "children           475.5      137.8   3.451 0.000577 ***\n",
       "smokeryes        23848.5      413.1  57.723  < 2e-16 ***\n",
       "regionnorthwest   -353.0      476.3  -0.741 0.458769    \n",
       "regionsoutheast  -1035.0      478.7  -2.162 0.030782 *  \n",
       "regionsouthwest   -960.0      477.9  -2.009 0.044765 *  \n",
       "---\n",
       "Signif. codes:  0 '***' 0.001 '**' 0.01 '*' 0.05 '.' 0.1 ' ' 1\n",
       "\n",
       "Residual standard error: 6062 on 1329 degrees of freedom\n",
       "Multiple R-squared:  0.7509,\tAdjusted R-squared:  0.7494 \n",
       "F-statistic: 500.8 on 8 and 1329 DF,  p-value: < 2.2e-16\n"
      ]
     },
     "metadata": {},
     "output_type": "display_data"
    }
   ],
   "source": [
    "model.all <- lm(charges~., data=df)\n",
    "summary(model.all)"
   ]
  },
  {
   "cell_type": "markdown",
   "id": "aab7685a-d5f0-495c-9dcf-a3987b0d4fba",
   "metadata": {},
   "source": [
    "Most of the coefficients have sufficient p-value (except northwest and sex). However, R2 is lower than for the previous model (0.75)."
   ]
  },
  {
   "cell_type": "code",
   "execution_count": 73,
   "id": "267df97b-d6fd-4a42-afd1-e13833b02e40",
   "metadata": {},
   "outputs": [
    {
     "data": {
      "image/png": "[encoded data removed]",
      "text/plain": [
       "Plot with title \"\""
      ]
     },
     "metadata": {
      "image/png": {
       "height": 300,
       "width": 300
      }
     },
     "output_type": "display_data"
    }
   ],
   "source": [
    "par(mfrow = c(2, 2))\n",
    "plot(model.all)"
   ]
  },
  {
   "cell_type": "markdown",
   "id": "c652e2a6-ef68-47e6-acde-0466b426deff",
   "metadata": {},
   "source": [
    "The diagnostic models are similiar to the previous one."
   ]
  },
  {
   "cell_type": "code",
   "execution_count": 74,
   "id": "f09f4ec5-878f-4027-b8b8-e38297319a19",
   "metadata": {},
   "outputs": [
    {
     "data": {
      "text/plain": [
       "\n",
       "Call:\n",
       "lm(formula = charges ~ age + bmi + children + smoker + region, \n",
       "    data = df)\n",
       "\n",
       "Residuals:\n",
       "     Min       1Q   Median       3Q      Max \n",
       "-11367.2  -2835.4   -979.7   1361.9  29935.5 \n",
       "\n",
       "Coefficients:\n",
       "                 Estimate Std. Error t value Pr(>|t|)    \n",
       "(Intercept)     -11990.27     978.76 -12.250  < 2e-16 ***\n",
       "age                256.97      11.89  21.610  < 2e-16 ***\n",
       "bmi                338.66      28.56  11.858  < 2e-16 ***\n",
       "children           474.57     137.74   3.445 0.000588 ***\n",
       "smokeryes        23836.30     411.86  57.875  < 2e-16 ***\n",
       "regionnorthwest   -352.18     476.12  -0.740 0.459618    \n",
       "regionsoutheast  -1034.36     478.54  -2.162 0.030834 *  \n",
       "regionsouthwest   -959.37     477.78  -2.008 0.044846 *  \n",
       "---\n",
       "Signif. codes:  0 '***' 0.001 '**' 0.01 '*' 0.05 '.' 0.1 ' ' 1\n",
       "\n",
       "Residual standard error: 6060 on 1330 degrees of freedom\n",
       "Multiple R-squared:  0.7509,\tAdjusted R-squared:  0.7496 \n",
       "F-statistic: 572.7 on 7 and 1330 DF,  p-value: < 2.2e-16\n"
      ]
     },
     "metadata": {},
     "output_type": "display_data"
    }
   ],
   "source": [
    "model.step <- step(model.all, trace=0)\n",
    "summary(model.step)"
   ]
  },
  {
   "cell_type": "code",
   "execution_count": 75,
   "id": "e59905ec-cf27-4742-aadb-fe0316b1dc9a",
   "metadata": {},
   "outputs": [
    {
     "data": {
      "image/png": "[encoded data removed]",
      "text/plain": [
       "Plot with title \"\""
      ]
     },
     "metadata": {
      "image/png": {
       "height": 300,
       "width": 300
      }
     },
     "output_type": "display_data"
    }
   ],
   "source": [
    "par(mfrow = c(2, 2))\n",
    "plot(model.step)"
   ]
  },
  {
   "cell_type": "markdown",
   "id": "4403455f-0163-4430-ad51-c5d69e3ec0f1",
   "metadata": {},
   "source": [
    "The reduced model doesn't have as high R2 as interaction model."
   ]
  },
  {
   "cell_type": "code",
   "execution_count": 76,
   "id": "596eefb5-78b6-4022-a838-7a0995fd0527",
   "metadata": {},
   "outputs": [
    {
     "data": {
      "text/html": [
       "<table class=\"dataframe\">\n",
       "<caption>A anova: 2 × 5</caption>\n",
       "<thead>\n",
       "\t<tr><th></th><th scope=col>Res.Df</th><th scope=col>RSS</th><th scope=col>Df</th><th scope=col>Sum of Sq</th><th scope=col>Pr(&gt;Chi)</th></tr>\n",
       "\t<tr><th></th><th scope=col>&lt;dbl&gt;</th><th scope=col>&lt;dbl&gt;</th><th scope=col>&lt;dbl&gt;</th><th scope=col>&lt;dbl&gt;</th><th scope=col>&lt;dbl&gt;</th></tr>\n",
       "</thead>\n",
       "<tbody>\n",
       "\t<tr><th scope=row>1</th><td>1329</td><td>48839532844</td><td>NA</td><td>      NA</td><td>       NA</td></tr>\n",
       "\t<tr><th scope=row>2</th><td>1330</td><td>48845249273</td><td>-1</td><td>-5716429</td><td>0.6932842</td></tr>\n",
       "</tbody>\n",
       "</table>\n"
      ],
      "text/latex": [
       "A anova: 2 × 5\n",
       "\\begin{tabular}{r|lllll}\n",
       "  & Res.Df & RSS & Df & Sum of Sq & Pr(>Chi)\\\\\n",
       "  & <dbl> & <dbl> & <dbl> & <dbl> & <dbl>\\\\\n",
       "\\hline\n",
       "\t1 & 1329 & 48839532844 & NA &       NA &        NA\\\\\n",
       "\t2 & 1330 & 48845249273 & -1 & -5716429 & 0.6932842\\\\\n",
       "\\end{tabular}\n"
      ],
      "text/markdown": [
       "\n",
       "A anova: 2 × 5\n",
       "\n",
       "| <!--/--> | Res.Df &lt;dbl&gt; | RSS &lt;dbl&gt; | Df &lt;dbl&gt; | Sum of Sq &lt;dbl&gt; | Pr(&gt;Chi) &lt;dbl&gt; |\n",
       "|---|---|---|---|---|---|\n",
       "| 1 | 1329 | 48839532844 | NA |       NA |        NA |\n",
       "| 2 | 1330 | 48845249273 | -1 | -5716429 | 0.6932842 |\n",
       "\n"
      ],
      "text/plain": [
       "  Res.Df RSS         Df Sum of Sq Pr(>Chi) \n",
       "1 1329   48839532844 NA       NA         NA\n",
       "2 1330   48845249273 -1 -5716429  0.6932842"
      ]
     },
     "metadata": {},
     "output_type": "display_data"
    }
   ],
   "source": [
    "anova(model.all, model.step, test=\"LRT\")"
   ]
  },
  {
   "cell_type": "markdown",
   "id": "54ed1515-b56a-44fe-a63e-754a9cd856dc",
   "metadata": {},
   "source": [
    "The model after reduction using step doesn't have data about sex. ANOVA proves that even without this coeff the model is pretty much the same."
   ]
  },
  {
   "cell_type": "markdown",
   "id": "3c8b5c68-ea18-4a85-bd0e-45ad67bbe885",
   "metadata": {},
   "source": [
    "Comparing all of the models above:"
   ]
  },
  {
   "cell_type": "code",
   "execution_count": 77,
   "id": "318fefb3-c56d-408e-bbb4-ebe0a1ea6692",
   "metadata": {},
   "outputs": [
    {
     "data": {
      "text/html": [
       "26547.6342060721"
      ],
      "text/latex": [
       "26547.6342060721"
      ],
      "text/markdown": [
       "26547.6342060721"
      ],
      "text/plain": [
       "[1] 26547.63"
      ]
     },
     "metadata": {},
     "output_type": "display_data"
    },
    {
     "data": {
      "text/html": [
       "27115.505837264"
      ],
      "text/latex": [
       "27115.505837264"
      ],
      "text/markdown": [
       "27115.505837264"
      ],
      "text/plain": [
       "[1] 27115.51"
      ]
     },
     "metadata": {},
     "output_type": "display_data"
    },
    {
     "data": {
      "text/html": [
       "27113.6624344726"
      ],
      "text/latex": [
       "27113.6624344726"
      ],
      "text/markdown": [
       "27113.6624344726"
      ],
      "text/plain": [
       "[1] 27113.66"
      ]
     },
     "metadata": {},
     "output_type": "display_data"
    }
   ],
   "source": [
    "library(MASS)\n",
    "AIC(model.interaction); AIC(model.all); AIC(model.step)"
   ]
  },
  {
   "cell_type": "markdown",
   "id": "58238119-44fe-40f1-8a78-0de96ef3749e",
   "metadata": {},
   "source": [
    "As seen above, model with interaction got the lower AIC value which further proves that it is the best model created so far in this project. It has the highest R2 and the lowest AIC."
   ]
  },
  {
   "cell_type": "markdown",
   "id": "e41015c7-2550-4e9f-8281-f07fc90de6ff",
   "metadata": {},
   "source": [
    "Are there any influencial observations or outliers for this model?"
   ]
  },
  {
   "cell_type": "code",
   "execution_count": 78,
   "id": "027ee02e-539c-41fd-8395-6ce6d30cf970",
   "metadata": {},
   "outputs": [
    {
     "data": {
      "text/html": [
       "<table class=\"dataframe\">\n",
       "<caption>A data.frame: 5 × 3</caption>\n",
       "<thead>\n",
       "\t<tr><th></th><th scope=col>StudRes</th><th scope=col>Hat</th><th scope=col>CookD</th></tr>\n",
       "\t<tr><th></th><th scope=col>&lt;dbl&gt;</th><th scope=col>&lt;dbl&gt;</th><th scope=col>&lt;dbl&gt;</th></tr>\n",
       "</thead>\n",
       "<tbody>\n",
       "\t<tr><th scope=row>129</th><td> 4.2616060</td><td>0.021828183</td><td>0.050013942</td></tr>\n",
       "\t<tr><th scope=row>517</th><td> 5.0517727</td><td>0.004697378</td><td>0.014783049</td></tr>\n",
       "\t<tr><th scope=row>544</th><td> 0.3456261</td><td>0.069563541</td><td>0.001117135</td></tr>\n",
       "\t<tr><th scope=row>1048</th><td>-2.6375784</td><td>0.113552310</td><td>0.110897782</td></tr>\n",
       "\t<tr><th scope=row>1301</th><td> 6.0872129</td><td>0.004527129</td><td>0.020508042</td></tr>\n",
       "</tbody>\n",
       "</table>\n"
      ],
      "text/latex": [
       "A data.frame: 5 × 3\n",
       "\\begin{tabular}{r|lll}\n",
       "  & StudRes & Hat & CookD\\\\\n",
       "  & <dbl> & <dbl> & <dbl>\\\\\n",
       "\\hline\n",
       "\t129 &  4.2616060 & 0.021828183 & 0.050013942\\\\\n",
       "\t517 &  5.0517727 & 0.004697378 & 0.014783049\\\\\n",
       "\t544 &  0.3456261 & 0.069563541 & 0.001117135\\\\\n",
       "\t1048 & -2.6375784 & 0.113552310 & 0.110897782\\\\\n",
       "\t1301 &  6.0872129 & 0.004527129 & 0.020508042\\\\\n",
       "\\end{tabular}\n"
      ],
      "text/markdown": [
       "\n",
       "A data.frame: 5 × 3\n",
       "\n",
       "| <!--/--> | StudRes &lt;dbl&gt; | Hat &lt;dbl&gt; | CookD &lt;dbl&gt; |\n",
       "|---|---|---|---|\n",
       "| 129 |  4.2616060 | 0.021828183 | 0.050013942 |\n",
       "| 517 |  5.0517727 | 0.004697378 | 0.014783049 |\n",
       "| 544 |  0.3456261 | 0.069563541 | 0.001117135 |\n",
       "| 1048 | -2.6375784 | 0.113552310 | 0.110897782 |\n",
       "| 1301 |  6.0872129 | 0.004527129 | 0.020508042 |\n",
       "\n"
      ],
      "text/plain": [
       "     StudRes    Hat         CookD      \n",
       "129   4.2616060 0.021828183 0.050013942\n",
       "517   5.0517727 0.004697378 0.014783049\n",
       "544   0.3456261 0.069563541 0.001117135\n",
       "1048 -2.6375784 0.113552310 0.110897782\n",
       "1301  6.0872129 0.004527129 0.020508042"
      ]
     },
     "metadata": {},
     "output_type": "display_data"
    },
    {
     "data": {
      "image/png": "[encoded data removed]",
      "text/plain": [
       "Plot with title \"Influencial observations\""
      ]
     },
     "metadata": {
      "image/png": {
       "height": 300,
       "width": 300
      }
     },
     "output_type": "display_data"
    }
   ],
   "source": [
    "library(car)\n",
    "influencePlot(model.interaction,\n",
    "              main=\"Influencial observations\")"
   ]
  },
  {
   "cell_type": "markdown",
   "id": "35c746df-b872-4047-a45f-4add3ea24d41",
   "metadata": {},
   "source": [
    "Using Crook distance it looks like there are 5 influencial observations."
   ]
  },
  {
   "cell_type": "markdown",
   "id": "e8ed044d-39d7-44e5-93a9-8caaf80217c6",
   "metadata": {},
   "source": [
    "Are there any outliers?"
   ]
  },
  {
   "cell_type": "code",
   "execution_count": 79,
   "id": "994b918a-24ba-43b7-85b7-83d0c9215219",
   "metadata": {},
   "outputs": [
    {
     "data": {
      "text/plain": [
       "     rstudent unadjusted p-value Bonferroni p\n",
       "1301 6.087213         1.5008e-09   2.0081e-06\n",
       "517  5.051773         4.9867e-07   6.6721e-04\n",
       "1207 4.769968         2.0458e-06   2.7373e-03\n",
       "243  4.659120         3.4944e-06   4.6755e-03\n",
       "1020 4.630741         4.0005e-06   5.3527e-03\n",
       "937  4.616630         4.2776e-06   5.7235e-03\n",
       "1013 4.594493         4.7498e-06   6.3553e-03\n",
       "600  4.436031         9.9200e-06   1.3273e-02\n",
       "527  4.330710         1.5979e-05   2.1380e-02\n",
       "220  4.264644         2.1438e-05   2.8684e-02"
      ]
     },
     "metadata": {},
     "output_type": "display_data"
    }
   ],
   "source": [
    "outlierTest(model.interaction)"
   ]
  },
  {
   "cell_type": "markdown",
   "id": "9503787b-a4dc-4ef1-8b54-e512da198e6d",
   "metadata": {},
   "source": [
    "The test suggest that there might be 10 outliers."
   ]
  },
  {
   "cell_type": "markdown",
   "id": "b7c29a6c-ccb9-4e60-8b85-ffdae45cc657",
   "metadata": {},
   "source": [
    "### Summary\n",
    "From achieved models, it looks like the cost of insurance can be explained the best using interaction between BMI, age and whether they are a smoker. It seems also that data about a region, children or sex doesn't have a significant importance in models' performance. \n",
    "The model might have been more accurate if there were more data about higher values of charges. The overrepresentation of lower values of charges might influence the model's ability to correctly predict the highest values."
   ]
  }
 ],
 "metadata": {
  "kernelspec": {
   "display_name": "R",
   "language": "R",
   "name": "ir"
  },
  "language_info": {
   "codemirror_mode": "r",
   "file_extension": ".r",
   "mimetype": "text/x-r-source",
   "name": "R",
   "pygments_lexer": "r",
   "version": "4.1.3"
  }
 },
 "nbformat": 4,
 "nbformat_minor": 5
}
